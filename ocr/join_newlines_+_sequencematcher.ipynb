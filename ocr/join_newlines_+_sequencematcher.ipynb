{
  "nbformat": 4,
  "nbformat_minor": 0,
  "metadata": {
    "colab": {
      "provenance": []
    },
    "kernelspec": {
      "name": "python3",
      "display_name": "Python 3"
    },
    "language_info": {
      "name": "python"
    }
  },
  "cells": [
    {
      "cell_type": "markdown",
      "source": [
        "**텍스트 공백 제거 후, 원래 텍스트와의 일치율 확인**"
      ],
      "metadata": {
        "id": "cA_j2ZjNTk8a"
      }
    },
    {
      "cell_type": "code",
      "execution_count": null,
      "metadata": {
        "id": "vsZZHnoCiBCb"
      },
      "outputs": [],
      "source": [
        "from difflib import SequenceMatcher"
      ]
    },
    {
      "cell_type": "code",
      "source": [
        "example1 = \"/content/drive/MyDrive/res_text(2).txt\"\n",
        "file1 = open(example1, \"r\")"
      ],
      "metadata": {
        "id": "iVPS_YT_ivGF"
      },
      "execution_count": null,
      "outputs": []
    },
    {
      "cell_type": "code",
      "source": [
        "file1.read()"
      ],
      "metadata": {
        "colab": {
          "base_uri": "https://localhost:8080/",
          "height": 108
        },
        "id": "ngt5QldjwNm0",
        "outputId": "30f13068-5091-4048-db3e-54997336426b"
      },
      "execution_count": null,
      "outputs": [
        {
          "output_type": "execute_result",
          "data": {
            "text/plain": [
              "'일까? 절로 궁금해졌지만 사장 언니도 시현도\\n그의 과거를 알아내진 못했다. 알코올성 치매\\n로 인해 기억이 많이 날아간 그는 그저 \\'독고\\n씨\\'라는 성인지 이름인지 애매한 호칭으로 불\\n릴 뿐이었다.\\n\\n“잘 좀 떠올려봐요. 이제 정신이 돌아온 거\\n같으니까.\"”\\n\\n“모, 몰라요. 생각 많이 하면…… 머리 아파\\n유.”\\n\\n선숙 씨가 물을 때마다 그는 큰 손으로 마\\n른세수를 하며 이렇게 답했고 그녀는 답답하\\n기 그지없었다. 독고 씨 스스로가 자기 과거를\\n딱히 캐지 않는 모습 역시 의문이 들었다. 정\\n신을 차렸으면 과거에 무슨 일을 했는지, 가족\\n은 있는지, 자신의 본모습이 무엇인지 알고 싶\\n은 게 정상이 아닌가? 그녀는 그런 면에서 이\\n해할 수 없는 독고 씨를 여전히 곰탱이라 여기\\n기로 했다. 물론 곰 역시 개가 아니므로 그녀\\n에게는 믿을 수 없는 존재에 불과했다.\\n\\n이해할 수도 믿을 수도 없기에 선숙은 독고\\n씨를 데면데면하게 대했다. 하지만 주인 언니\\n'"
            ],
            "application/vnd.google.colaboratory.intrinsic+json": {
              "type": "string"
            }
          },
          "metadata": {},
          "execution_count": 12
        }
      ]
    },
    {
      "cell_type": "code",
      "source": [
        "# Open the file\n",
        "my_file = open('/content/drive/MyDrive/res_text(2).txt', 'r')\n",
        "\n",
        "# File's output\n",
        "o = my_file.read()\n",
        "\n",
        "# Remove all new lines from the file.\n",
        "r_newlines = \"\".join(o.splitlines())\n",
        "\n",
        "# Result\n",
        "print(r_newlines)\n",
        "\n",
        "# Close the file\n",
        "my_file.close()"
      ],
      "metadata": {
        "colab": {
          "base_uri": "https://localhost:8080/"
        },
        "id": "iW5ODPpKwqhA",
        "outputId": "7cdbb9d7-62f1-483e-9796-2385ed9539a1"
      },
      "execution_count": null,
      "outputs": [
        {
          "output_type": "stream",
          "name": "stdout",
          "text": [
            "일까? 절로 궁금해졌지만 사장 언니도 시현도그의 과거를 알아내진 못했다. 알코올성 치매로 인해 기억이 많이 날아간 그는 그저 '독고씨'라는 성인지 이름인지 애매한 호칭으로 불릴 뿐이었다.“잘 좀 떠올려봐요. 이제 정신이 돌아온 거같으니까.\"”“모, 몰라요. 생각 많이 하면…… 머리 아파유.”선숙 씨가 물을 때마다 그는 큰 손으로 마른세수를 하며 이렇게 답했고 그녀는 답답하기 그지없었다. 독고 씨 스스로가 자기 과거를딱히 캐지 않는 모습 역시 의문이 들었다. 정신을 차렸으면 과거에 무슨 일을 했는지, 가족은 있는지, 자신의 본모습이 무엇인지 알고 싶은 게 정상이 아닌가? 그녀는 그런 면에서 이해할 수 없는 독고 씨를 여전히 곰탱이라 여기기로 했다. 물론 곰 역시 개가 아니므로 그녀에게는 믿을 수 없는 존재에 불과했다.이해할 수도 믿을 수도 없기에 선숙은 독고씨를 데면데면하게 대했다. 하지만 주인 언니\n"
          ]
        }
      ]
    },
    {
      "cell_type": "code",
      "source": [
        "r_newlines"
      ],
      "metadata": {
        "colab": {
          "base_uri": "https://localhost:8080/",
          "height": 108
        },
        "id": "4GiXb29dw5we",
        "outputId": "08671187-fbdd-454d-f5fb-e7e9e0b37f85"
      },
      "execution_count": null,
      "outputs": [
        {
          "output_type": "execute_result",
          "data": {
            "text/plain": [
              "'일까? 절로 궁금해졌지만 사장 언니도 시현도그의 과거를 알아내진 못했다. 알코올성 치매로 인해 기억이 많이 날아간 그는 그저 \\'독고씨\\'라는 성인지 이름인지 애매한 호칭으로 불릴 뿐이었다.“잘 좀 떠올려봐요. 이제 정신이 돌아온 거같으니까.\"”“모, 몰라요. 생각 많이 하면…… 머리 아파유.”선숙 씨가 물을 때마다 그는 큰 손으로 마른세수를 하며 이렇게 답했고 그녀는 답답하기 그지없었다. 독고 씨 스스로가 자기 과거를딱히 캐지 않는 모습 역시 의문이 들었다. 정신을 차렸으면 과거에 무슨 일을 했는지, 가족은 있는지, 자신의 본모습이 무엇인지 알고 싶은 게 정상이 아닌가? 그녀는 그런 면에서 이해할 수 없는 독고 씨를 여전히 곰탱이라 여기기로 했다. 물론 곰 역시 개가 아니므로 그녀에게는 믿을 수 없는 존재에 불과했다.이해할 수도 믿을 수도 없기에 선숙은 독고씨를 데면데면하게 대했다. 하지만 주인 언니'"
            ],
            "application/vnd.google.colaboratory.intrinsic+json": {
              "type": "string"
            }
          },
          "metadata": {},
          "execution_count": 14
        }
      ]
    },
    {
      "cell_type": "code",
      "source": [
        "new_txt = r_newlines\n",
        "org_txt = \"일까? 절로 궁금해졌지만 사장 언니도 시현도 그의 과거를 알아내진 못했다. 알코올성 치매로 인해 기억이 많이 날아간 그는 그저 ‘독고 씨’라는 성인지 이름인지 애매한 호칭으로 불릴 뿐이었다.    “잘 좀 떠올려봐요. 이제 정신이 돌아온 거 같으니까.”    “모, 몰라요. 생각 많이 하면…… 머리 아파요.”    선숙 씨가 물을 때마다 그는 큰 손으로 마른세수를 하며 이렇게 답했고 그녀는 답답하기 그지없었다. 독고 씨 스스로가 자기 과거를 딱히 캐지 않는 모습 역시 의문이 들었다. 정신을 차렸으면 과거에 무슨 일을 했는지, 가족은 있는지, 자신의 본모습이 무엇인지 알고 싶은 게 정상이 아닌가? 그녀는 그런 면에서 이해할 수 없는 독고 씨를 여전히 곰탱이라 여기기로 했다. 물론 곰 역시 개가 아니므로 그녀에게는 믿을 수 없는 존재에 불과했다.    이해할 수도 믿을 수도 없기에 선숙은 독고 씨를 데면데면하게 대했다. 하지만 주인 언니\""
      ],
      "metadata": {
        "id": "7iup1TBtxD7w"
      },
      "execution_count": null,
      "outputs": []
    },
    {
      "cell_type": "code",
      "source": [
        "SequenceMatcher(None, new_txt, org_txt).ratio()"
      ],
      "metadata": {
        "colab": {
          "base_uri": "https://localhost:8080/"
        },
        "id": "EwmxpkfxxRG2",
        "outputId": "7f4eaaf7-d5c1-4d83-f90a-4e88c86260ab"
      },
      "execution_count": null,
      "outputs": [
        {
          "output_type": "execute_result",
          "data": {
            "text/plain": [
              "0.9696969696969697"
            ]
          },
          "metadata": {},
          "execution_count": 16
        }
      ]
    }
  ]
}